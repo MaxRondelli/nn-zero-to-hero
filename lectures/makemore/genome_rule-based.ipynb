{
 "cells": [
  {
   "cell_type": "markdown",
   "metadata": {},
   "source": [
    "# Approccio basato su regole\n",
    "\n",
    "Un approccio basato su regole per la generazione di nomi prevede la definizione di regole linguistiche specifiche e di modelli che compaiono comunemente nei nomi. Questo metodo si basa su linee guida predefinite piuttosto che sull'analisi statistica di un set di dati. Ecco la struttura proposta per un sistema di generazione di nomi basato su regole:\n",
    "\n",
    "## Modelli di sillabe\n",
    "\n",
    "- **Costruzione della sillaba**: Definire le strutture comuni delle sillabe, come consonante-vocale-consonante (CVC), vocale-consonante (VC) o consonante-vocale (CV). I nomi sono spesso composti da una serie di sillabe di questo tipo.\n",
    "- **Frequenza delle sillabe**: Alcune sillabe possono essere più frequenti nei nomi e questo può essere preso in considerazione nel processo di generazione.\n",
    "\n",
    "## Regole fonetiche\n",
    "\n",
    "- **Equilibrio tra consonanti e vocali**: Garantire un equilibrio tra consonanti e vocali per creare nomi foneticamente plausibili.\n",
    "- **Costrizioni fonemiche**: Alcune combinazioni di fonemi sono rare o inesistenti nelle lingue naturali (ad esempio, \"bn\" all'inizio delle parole inglesi). Occorre tenere conto di questi vincoli.\n",
    "\n",
    "## Influenze culturali o linguistiche\n",
    "\n",
    "- Modelli culturali**: I nomi variano spesso in modo significativo da una cultura all'altra. Le regole potrebbero essere adattate per imitare specifiche convenzioni linguistiche o culturali di denominazione.\n",
    "- **Caratteristiche linguistiche**: Incorporare caratteristiche linguistiche specifiche, come le terminazioni dei nomi in latino (\"-us\", \"-a\") o i gruppi consonantici germanici.\n",
    "\n",
    "## Randomizzazione all'interno dei vincoli\n",
    "\n",
    "- **Selezione casuale di sillabe**: Seleziona casualmente le sillabe all'interno dei modelli definiti e le concatena per formare i nomi.\n",
    "- **Inserimento casuale di caratteri**: Inserire o modificare occasionalmente i caratteri in un nome per aumentare la casualità, pur rispettando le regole.\n",
    "\n",
    "## Lunghezza e struttura dei nomi\n",
    "\n",
    "- **Costrizioni di lunghezza**: Stabilire limiti per la lunghezza minima e massima dei nomi.\n",
    "- **Varietà strutturale**: I nomi possono essere strutturati in vari modi (ad esempio, monosillabi, nomi composti).\n",
    "\n",
    "## Considerazioni sulla valutazione:\n",
    "\n",
    "- **Flessibilità**: Le regole devono essere sufficientemente flessibili da generare una vasta gamma di nomi.\n",
    "- **Leggibilità e pronuncia**: I nomi devono essere generalmente facili da leggere e da pronunciare.\n",
    "- **Sensibilità culturale**: Si deve prestare attenzione a rappresentare in modo rispettoso le convenzioni culturali di denominazione."
   ]
  },
  {
   "cell_type": "code",
   "execution_count": 11,
   "metadata": {},
   "outputs": [
    {
     "data": {
      "text/plain": [
       "['Heakmi', 'Zirvoh', 'Upwavmak', 'Niaq', 'Moqud']"
      ]
     },
     "execution_count": 11,
     "metadata": {},
     "output_type": "execute_result"
    }
   ],
   "source": [
    "from utility import generate_syllable\n",
    "import random\n",
    "\n",
    "# Define lists of consonants and vowels\n",
    "consonants = ['b', 'c', 'd', 'f', 'g', 'h', 'j', 'k', 'l',\n",
    "              'm', 'n', 'p', 'q', 'r', 's', 't', 'v', 'w', 'x', 'y', 'z']\n",
    "vowels = ['a', 'e', 'i', 'o', 'u']\n",
    "\n",
    "# Define syllable structures\n",
    "syllable_structures = ['CVC', 'VC', 'CV']\n",
    "\n",
    "# Function to generate a name\n",
    "\n",
    "\n",
    "def generate_name(min_syllables=2, max_syllables=3):\n",
    "    name = ''\n",
    "    num_syllables = random.randint(min_syllables, max_syllables)\n",
    "    for _ in range(num_syllables):\n",
    "        structure = random.choice(syllable_structures)\n",
    "        name += generate_syllable(structure, consonants, vowels)\n",
    "    return name.capitalize()\n",
    "\n",
    "\n",
    "# Generate a few example names\n",
    "example_names = [generate_name() for _ in range(5)]\n",
    "example_names"
   ]
  }
 ],
 "metadata": {
  "kernelspec": {
   "display_name": "notebook39",
   "language": "python",
   "name": "python3"
  },
  "language_info": {
   "codemirror_mode": {
    "name": "ipython",
    "version": 3
   },
   "file_extension": ".py",
   "mimetype": "text/x-python",
   "name": "python",
   "nbconvert_exporter": "python",
   "pygments_lexer": "ipython3",
   "version": "3.9.18"
  }
 },
 "nbformat": 4,
 "nbformat_minor": 2
}
