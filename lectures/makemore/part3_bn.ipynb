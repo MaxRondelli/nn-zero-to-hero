{
 "cells": [
  {
   "cell_type": "markdown",
   "metadata": {},
   "source": [
    "# makemore: part 3"
   ]
  },
  {
   "cell_type": "code",
   "execution_count": 1,
   "metadata": {},
   "outputs": [],
   "source": [
    "import torch\n",
    "import torch.nn.functional as F\n",
    "import matplotlib.pyplot as plt # for making figures\n",
    "%matplotlib inline\n"
   ]
  },
  {
   "cell_type": "code",
   "execution_count": 2,
   "metadata": {},
   "outputs": [
    {
     "data": {
      "text/plain": [
       "['emma', 'olivia', 'ava', 'isabella', 'sophia', 'charlotte', 'mia', 'amelia']"
      ]
     },
     "execution_count": 2,
     "metadata": {},
     "output_type": "execute_result"
    }
   ],
   "source": [
    "# read in all the words\n",
    "words = open('names.txt', 'r').read().splitlines()\n",
    "words[:8]"
   ]
  },
  {
   "cell_type": "code",
   "execution_count": 3,
   "metadata": {},
   "outputs": [
    {
     "data": {
      "text/plain": [
       "32033"
      ]
     },
     "execution_count": 3,
     "metadata": {},
     "output_type": "execute_result"
    }
   ],
   "source": [
    "len(words)"
   ]
  },
  {
   "cell_type": "code",
   "execution_count": 4,
   "metadata": {},
   "outputs": [
    {
     "name": "stdout",
     "output_type": "stream",
     "text": [
      "{1: 'a', 2: 'b', 3: 'c', 4: 'd', 5: 'e', 6: 'f', 7: 'g', 8: 'h', 9: 'i', 10: 'j', 11: 'k', 12: 'l', 13: 'm', 14: 'n', 15: 'o', 16: 'p', 17: 'q', 18: 'r', 19: 's', 20: 't', 21: 'u', 22: 'v', 23: 'w', 24: 'x', 25: 'y', 26: 'z', 0: '.'}\n",
      "27\n"
     ]
    }
   ],
   "source": [
    "# build the vocabulary of characters and mappings to/from integers\n",
    "chars = sorted(list(set(''.join(words))))\n",
    "stoi = {s:i+1 for i,s in enumerate(chars)}\n",
    "stoi['.'] = 0\n",
    "itos = {i:s for s,i in stoi.items()}\n",
    "vocab_size = len(itos)\n",
    "print(itos)\n",
    "print(vocab_size)"
   ]
  },
  {
   "cell_type": "code",
   "execution_count": 5,
   "metadata": {},
   "outputs": [
    {
     "name": "stdout",
     "output_type": "stream",
     "text": [
      "torch.Size([182625, 3]) torch.Size([182625])\n",
      "torch.Size([22655, 3]) torch.Size([22655])\n",
      "torch.Size([22866, 3]) torch.Size([22866])\n"
     ]
    }
   ],
   "source": [
    "# build the dataset\n",
    "block_size = 3 # context length: how many characters do we take to predict the next one?\n",
    "\n",
    "def build_dataset(words):  \n",
    "  X, Y = [], []\n",
    "  \n",
    "  for w in words:\n",
    "    context = [0] * block_size\n",
    "    for ch in w + '.':\n",
    "      ix = stoi[ch]\n",
    "      X.append(context)\n",
    "      Y.append(ix)\n",
    "      context = context[1:] + [ix] # crop and append\n",
    "\n",
    "  X = torch.tensor(X)\n",
    "  Y = torch.tensor(Y)\n",
    "  print(X.shape, Y.shape)\n",
    "  return X, Y\n",
    "\n",
    "import random\n",
    "random.seed(42)\n",
    "random.shuffle(words)\n",
    "n1 = int(0.8*len(words))\n",
    "n2 = int(0.9*len(words))\n",
    "\n",
    "Xtr,  Ytr  = build_dataset(words[:n1])     # 80%\n",
    "Xdev, Ydev = build_dataset(words[n1:n2])   # 10%\n",
    "Xte,  Yte  = build_dataset(words[n2:])     # 10%\n"
   ]
  },
  {
   "cell_type": "code",
   "execution_count": 6,
   "metadata": {},
   "outputs": [
    {
     "name": "stdout",
     "output_type": "stream",
     "text": [
      "12097\n"
     ]
    }
   ],
   "source": [
    "# MLP revisited\n",
    "n_embd = 10 # the dimensionality of the character embedding vectors\n",
    "n_hidden = 200 # the number of neurons in the hidden layer of the MLP\n",
    "\n",
    "g = torch.Generator().manual_seed(2147483647) # for reproducibility\n",
    "C  = torch.randn((vocab_size, n_embd),            generator=g)\n",
    "W1 = torch.randn((n_embd * block_size, n_hidden), generator=g) * (5/3)/((n_embd * block_size)**0.5) #* 0.2\n",
    "#b1 = torch.randn(n_hidden,                        generator=g) * 0.01\n",
    "W2 = torch.randn((n_hidden, vocab_size),          generator=g) * 0.01\n",
    "b2 = torch.randn(vocab_size,                      generator=g) * 0\n",
    "\n",
    "# BatchNorm parameters\n",
    "bngain = torch.ones((1, n_hidden))\n",
    "bnbias = torch.zeros((1, n_hidden))\n",
    "bnmean_running = torch.zeros((1, n_hidden))\n",
    "bnstd_running = torch.ones((1, n_hidden))\n",
    "\n",
    "parameters = [C, W1, W2, b2, bngain, bnbias]\n",
    "print(sum(p.nelement() for p in parameters)) # number of parameters in total\n",
    "for p in parameters:\n",
    "  p.requires_grad = True"
   ]
  },
  {
   "cell_type": "code",
   "execution_count": 9,
   "metadata": {},
   "outputs": [
    {
     "name": "stdout",
     "output_type": "stream",
     "text": [
      "      0/ 200000: 3.2736\n",
      "  10000/ 200000: 2.3246\n",
      "  20000/ 200000: 2.0229\n",
      "  30000/ 200000: 2.0292\n",
      "  40000/ 200000: 2.0587\n",
      "  50000/ 200000: 2.8989\n",
      "  60000/ 200000: 2.1025\n",
      "  70000/ 200000: 2.8280\n",
      "  80000/ 200000: 2.5755\n",
      "  90000/ 200000: 2.2545\n",
      " 100000/ 200000: 2.0482\n",
      " 110000/ 200000: 1.8211\n",
      " 120000/ 200000: 1.8397\n",
      " 130000/ 200000: 2.4059\n",
      " 140000/ 200000: 2.4866\n",
      " 150000/ 200000: 2.4214\n",
      " 160000/ 200000: 2.1187\n",
      " 170000/ 200000: 2.1708\n",
      " 180000/ 200000: 2.1542\n",
      " 190000/ 200000: 2.0988\n"
     ]
    }
   ],
   "source": [
    "# same optimization as last time\n",
    "max_steps = 200000\n",
    "batch_size = 32\n",
    "lossi = []\n",
    "\n",
    "for i in range(max_steps):\n",
    "  \n",
    "  # minibatch construct\n",
    "  ix = torch.randint(0, Xtr.shape[0], (batch_size,), generator=g)\n",
    "  Xb, Yb = Xtr[ix], Ytr[ix] # batch X,Y\n",
    "  \n",
    "  # forward pass\n",
    "  emb = C[Xb] # embed the characters into vectors\n",
    "  embcat = emb.view(emb.shape[0], -1) # concatenate the vectors\n",
    "  # Linear layer\n",
    "  hpreact = embcat @ W1 #+ b1 # hidden layer pre-activation\n",
    "  # BatchNorm layer\n",
    "  # -------------------------------------------------------------\n",
    "  bnmeani = hpreact.mean(0, keepdim=True)\n",
    "  bnstdi = hpreact.std(0, keepdim=True)\n",
    "  hpreact = bngain * (hpreact - bnmeani) / bnstdi + bnbias\n",
    "  with torch.no_grad():\n",
    "    bnmean_running = 0.999 * bnmean_running + 0.001 * bnmeani\n",
    "    bnstd_running = 0.999 * bnstd_running + 0.001 * bnstdi\n",
    "  # -------------------------------------------------------------\n",
    "  # Non-linearity\n",
    "  h = torch.tanh(hpreact) # hidden layer\n",
    "  logits = h @ W2 + b2 # output layer\n",
    "  loss = F.cross_entropy(logits, Yb) # loss function\n",
    "  \n",
    "  # backward pass\n",
    "  for p in parameters:\n",
    "    p.grad = None\n",
    "  loss.backward()\n",
    "  \n",
    "  # update\n",
    "  lr = 0.1 if i < 100000 else 0.01 # step learning rate decay\n",
    "  for p in parameters:\n",
    "    p.data += -lr * p.grad\n",
    "\n",
    "  # track stats\n",
    "  if i % 10000 == 0: # print every once in a while\n",
    "    print(f'{i:7d}/{max_steps:7d}: {loss.item():.4f}')\n",
    "  lossi.append(loss.log10().item())\n",
    "    "
   ]
  },
  {
   "cell_type": "code",
   "execution_count": 17,
   "metadata": {},
   "outputs": [
    {
     "data": {
      "text/plain": [
       "<matplotlib.image.AxesImage at 0x15a880640>"
      ]
     },
     "execution_count": 17,
     "metadata": {},
     "output_type": "execute_result"
    },
    {
     "data": {
      "image/png": "[encoded data removed]",
      "text/plain": [
       "<Figure size 2000x1000 with 1 Axes>"
      ]
     },
     "metadata": {},
     "output_type": "display_data"
    }
   ],
   "source": [
    "plt.figure(figsize=(20,10))\n",
    "plt.imshow(h.abs() > .99, cmap='gray', interpolation='nearest')"
   ]
  },
  {
   "cell_type": "code",
   "execution_count": 12,
   "metadata": {},
   "outputs": [
    {
     "data": {
      "image/png": "[encoded data removed]",
      "text/plain": [
       "<Figure size 640x480 with 1 Axes>"
      ]
     },
     "metadata": {},
     "output_type": "display_data"
    }
   ],
   "source": [
    "plt.hist(h.view(-1).tolist(), 50);"
   ]
  },
  {
   "cell_type": "code",
   "execution_count": 15,
   "metadata": {},
   "outputs": [
    {
     "data": {
      "image/png": "[encoded data removed]",
      "text/plain": [
       "<Figure size 640x480 with 1 Axes>"
      ]
     },
     "metadata": {},
     "output_type": "display_data"
    }
   ],
   "source": [
    "plt.hist(hpreact.view(-1).tolist(), 50);"
   ]
  },
  {
   "cell_type": "code",
   "execution_count": 8,
   "metadata": {},
   "outputs": [
    {
     "data": {
      "text/plain": [
       "tensor([[-4.6601e-02,  7.1294e-02,  4.0797e-02,  3.1149e-02,  1.9894e-02,\n",
       "         -3.9361e-03, -2.6331e-02,  5.2819e-02,  1.1655e-02, -3.3673e-02,\n",
       "         -1.0199e-01, -1.0497e-01,  4.3396e-02,  3.9557e-02,  4.0937e-02,\n",
       "         -4.9429e-02,  5.8889e-02, -1.5894e-02,  3.3501e-02, -6.7133e-02,\n",
       "          1.7686e-01,  1.1971e-01,  3.9865e-02, -7.5818e-02,  1.2355e-02,\n",
       "          1.4911e-01,  1.0603e-02],\n",
       "        [ 1.0623e-01, -2.7774e-02,  9.9652e-02, -1.6168e-01, -1.5425e-02,\n",
       "          2.8836e-02,  2.1820e-02,  7.5374e-02,  8.8941e-02,  1.8936e-01,\n",
       "          1.6575e-01,  8.8573e-02, -8.7338e-02, -1.2033e-02, -1.7971e-01,\n",
       "         -1.7784e-02,  7.4010e-02,  6.2871e-02, -4.1428e-02,  4.4932e-03,\n",
       "          1.8114e-02, -9.8291e-02,  4.7093e-02, -5.1549e-02, -1.5212e-02,\n",
       "         -5.0449e-02, -1.0519e-02],\n",
       "        [-1.7255e-02, -5.9798e-02,  2.6640e-02,  4.5777e-02,  1.4452e-01,\n",
       "          5.8254e-02, -1.1822e-01, -4.5599e-02, -2.6903e-01, -2.4332e-02,\n",
       "         -1.8600e-01, -1.7182e-01,  3.8857e-02,  1.9046e-01,  7.4544e-02,\n",
       "          1.2827e-01,  5.9213e-03, -7.7423e-02, -3.6308e-02, -2.7183e-02,\n",
       "          6.3546e-02,  9.9104e-03, -7.7928e-02,  3.2505e-01, -8.6469e-03,\n",
       "          5.0553e-02,  1.1360e-02],\n",
       "        [ 3.3231e-02, -8.6165e-02,  6.6355e-02,  3.9398e-03,  1.5434e-01,\n",
       "          1.4473e-01,  4.6512e-02,  1.1355e-01, -1.2563e-02, -3.5092e-03,\n",
       "          4.0064e-02, -6.6499e-02,  3.0262e-02,  1.0334e-01, -3.4010e-02,\n",
       "         -2.2291e-02,  2.3303e-02, -1.0225e-01,  1.0794e-01,  8.1842e-02,\n",
       "          1.1762e-02, -7.4613e-03, -2.6043e-02, -8.3843e-02,  5.7399e-02,\n",
       "          3.4869e-02,  4.8693e-02],\n",
       "        [-1.2245e-01, -7.0718e-02, -1.4009e-01,  4.2274e-02, -6.9030e-02,\n",
       "         -1.0164e-01,  1.0783e-01, -7.8882e-02, -5.7973e-02, -7.1261e-03,\n",
       "          4.4886e-02,  2.6384e-02, -1.5183e-01,  5.5063e-02,  1.3982e-01,\n",
       "          4.2797e-02, -4.4289e-02, -3.1366e-02, -8.5364e-02,  3.0836e-02,\n",
       "          4.6925e-02, -1.2053e-02,  3.7055e-02,  2.2955e-01, -3.9786e-02,\n",
       "         -1.7383e-02, -1.9320e-01],\n",
       "        [ 3.5168e-02, -6.1993e-02, -3.8017e-02, -1.1950e-02,  3.7740e-05,\n",
       "          2.0477e-01, -5.9021e-02,  1.6152e-01,  1.6820e-04, -1.8251e-01,\n",
       "          6.6730e-02, -1.1073e-01, -1.2968e-01,  1.2179e-04, -2.6198e-02,\n",
       "         -5.4279e-02, -7.6938e-02,  1.3826e-02, -2.5927e-02, -1.1967e-01,\n",
       "          2.9829e-02,  3.6604e-02, -1.8951e-02,  6.5935e-02, -4.4049e-02,\n",
       "          8.3308e-02, -5.8486e-02],\n",
       "        [ 1.3628e-01, -6.8211e-02,  9.2037e-02,  7.8839e-02, -3.5611e-02,\n",
       "          1.2998e-01, -5.7213e-02,  1.7217e-01,  2.5392e-01,  2.0275e-01,\n",
       "          1.2924e-01,  1.4420e-01, -7.3830e-02,  3.6714e-02, -2.0115e-01,\n",
       "         -1.7224e-01, -1.0787e-01, -6.5027e-02, -1.5801e-01,  5.6784e-02,\n",
       "          5.4359e-02,  1.1165e-01, -2.6735e-02,  1.0714e-01, -1.4187e-01,\n",
       "         -2.8795e-02,  5.1772e-02],\n",
       "        [-5.7602e-02,  6.9180e-02,  4.7293e-02,  1.0228e-03,  1.0105e-01,\n",
       "         -5.2138e-03, -1.6470e-01, -1.7409e-02, -1.1107e-01, -8.7207e-02,\n",
       "         -7.2844e-02, -1.2376e-01, -6.1111e-02,  4.3700e-02, -2.2453e-02,\n",
       "         -3.1504e-02,  1.0344e-01,  2.0311e-01,  1.7778e-01, -3.1184e-02,\n",
       "         -1.8717e-01,  4.7298e-02,  7.5099e-02, -9.6352e-02,  5.8291e-02,\n",
       "          9.7895e-02,  1.0654e-01],\n",
       "        [-5.8842e-02,  4.6553e-02,  1.5081e-01, -5.4057e-02,  9.2165e-02,\n",
       "          6.2131e-02, -1.2407e-01,  1.8490e-02, -1.0749e-01, -7.8744e-02,\n",
       "         -7.6183e-02, -2.5530e-02,  6.3211e-02,  1.0242e-01,  3.2076e-02,\n",
       "         -1.5631e-03, -1.4087e-02, -9.4999e-02,  5.6899e-02, -1.4163e-02,\n",
       "         -1.2316e-01, -5.7354e-02, -5.6557e-03, -4.6811e-02,  1.4868e-01,\n",
       "          1.7192e-01,  9.3408e-02],\n",
       "        [ 4.7819e-02, -1.1971e-01, -6.0460e-02,  5.8907e-02, -1.1598e-01,\n",
       "         -1.7280e-01,  3.2053e-02,  4.1629e-04,  2.1818e-01, -4.0235e-03,\n",
       "          7.7974e-02,  1.6876e-01,  1.8084e-02, -4.6891e-02, -1.3813e-01,\n",
       "         -7.4695e-03, -1.4890e-01,  1.0989e-02, -2.1189e-01, -1.2102e-01,\n",
       "          2.3214e-01,  8.3309e-04, -3.8115e-02,  8.7571e-02, -5.5494e-02,\n",
       "         -1.2755e-01, -1.0694e-01],\n",
       "        [ 1.4050e-01, -8.1552e-02,  5.9774e-02,  1.1449e-01,  5.7833e-02,\n",
       "         -2.8427e-02,  3.7046e-02, -9.2379e-02,  1.6394e-01,  9.0831e-02,\n",
       "          5.9116e-02,  3.1331e-02,  1.2010e-01, -1.6555e-01, -1.4356e-01,\n",
       "         -6.3761e-02,  6.6314e-02,  6.8640e-02,  3.9717e-02,  8.3644e-03,\n",
       "         -1.4028e-01,  7.5386e-02, -2.7270e-02, -2.5301e-01, -7.0853e-02,\n",
       "         -4.6349e-02, -4.5698e-02],\n",
       "        [ 3.1162e-02,  4.5274e-02,  8.1653e-02,  3.0283e-02, -1.2127e-02,\n",
       "         -2.0672e-02, -3.0496e-02, -3.7443e-02,  1.7843e-01,  1.1254e-01,\n",
       "          4.8382e-02, -3.0734e-02, -1.8668e-02, -1.5299e-01, -7.0280e-02,\n",
       "         -6.1588e-02,  1.4387e-01,  2.5613e-02, -6.2692e-02,  5.2428e-02,\n",
       "          6.6053e-02,  6.5234e-02,  1.3895e-02,  1.1176e-01, -1.5221e-01,\n",
       "         -8.9017e-02, -2.5262e-02],\n",
       "        [-6.2276e-02,  4.7269e-04, -4.1980e-02, -8.5072e-02, -1.0430e-01,\n",
       "         -3.2941e-02,  2.4553e-02,  3.2218e-02, -1.4278e-01, -1.6652e-01,\n",
       "         -3.9495e-02,  1.2942e-01, -6.9724e-02,  4.8802e-02, -1.4360e-01,\n",
       "          1.8672e-02, -2.4659e-02, -4.7381e-03, -4.3585e-02, -9.0247e-02,\n",
       "          3.1771e-02, -1.6154e-01,  6.0403e-02, -9.1660e-03,  1.1517e-01,\n",
       "         -9.6461e-02, -2.2592e-02],\n",
       "        [ 4.6938e-02,  1.2795e-01,  7.9294e-02, -3.7072e-02,  1.5501e-02,\n",
       "         -7.5265e-02, -5.8706e-03,  1.9924e-02,  4.6156e-02,  4.8919e-02,\n",
       "         -7.1507e-02,  3.6048e-02,  1.1271e-01, -8.7376e-02, -9.0719e-03,\n",
       "          2.6706e-02,  7.4246e-02, -1.2758e-01,  1.6673e-01,  1.2147e-01,\n",
       "         -1.3614e-01, -9.8608e-02,  2.8309e-02, -2.2384e-01,  9.7381e-04,\n",
       "         -7.7091e-02,  1.2454e-01],\n",
       "        [-2.2022e-02, -1.5900e-02, -4.4599e-02, -6.6773e-02,  7.6083e-02,\n",
       "          1.5666e-02,  6.0340e-02, -7.2078e-02,  9.5236e-02,  2.9374e-02,\n",
       "         -7.8673e-02,  8.2140e-02,  2.0498e-01, -1.6692e-01,  2.3869e-02,\n",
       "          1.2150e-01,  3.3075e-02,  8.8358e-02,  9.7904e-03,  9.1556e-02,\n",
       "         -2.5882e-01,  6.9046e-04, -2.4007e-02, -3.6491e-01,  2.5884e-02,\n",
       "         -7.9881e-02, -1.4046e-02],\n",
       "        [ 5.0739e-03,  9.0063e-02,  1.2347e-01, -6.3713e-02, -4.0896e-02,\n",
       "         -4.4290e-02, -7.4040e-02, -5.2596e-02,  7.6731e-02, -6.9738e-02,\n",
       "          8.2887e-02, -1.1175e-01,  2.1085e-02, -1.1287e-01,  1.8439e-02,\n",
       "          6.2473e-02,  4.0661e-02,  5.9677e-02,  6.6881e-02, -4.7207e-02,\n",
       "          1.0399e-01, -1.2053e-02,  5.7000e-02,  1.4302e-01, -1.0612e-01,\n",
       "         -5.7477e-03, -4.4468e-02],\n",
       "        [-1.0990e-01,  9.5346e-02,  9.5851e-02,  6.6973e-03,  1.8073e-01,\n",
       "          6.3839e-03, -1.4038e-02, -1.2282e-01, -1.6654e-01, -7.5336e-02,\n",
       "         -8.3885e-02, -2.3892e-01,  1.2877e-01,  7.7542e-02,  2.3476e-01,\n",
       "          9.4018e-02,  9.6467e-02, -2.6679e-02,  3.8750e-03,  6.5514e-02,\n",
       "          6.0409e-02,  1.0585e-01, -6.1686e-02, -1.8665e-02,  7.8711e-03,\n",
       "          2.0049e-01, -6.2781e-02],\n",
       "        [-4.6601e-02,  7.1294e-02,  4.0797e-02,  3.1149e-02,  1.9894e-02,\n",
       "         -3.9361e-03, -2.6331e-02,  5.2819e-02,  1.1655e-02, -3.3673e-02,\n",
       "         -1.0199e-01, -1.0497e-01,  4.3396e-02,  3.9557e-02,  4.0937e-02,\n",
       "         -4.9429e-02,  5.8889e-02, -1.5894e-02,  3.3501e-02, -6.7133e-02,\n",
       "          1.7686e-01,  1.1971e-01,  3.9865e-02, -7.5818e-02,  1.2355e-02,\n",
       "          1.4911e-01,  1.0603e-02],\n",
       "        [ 3.3962e-02,  5.6799e-02, -7.2826e-02, -1.3132e-01,  1.4710e-02,\n",
       "          5.0395e-03, -1.0456e-01, -2.5138e-02,  9.3496e-02,  1.6121e-02,\n",
       "         -5.7697e-02,  9.1385e-02,  8.4918e-03,  1.3899e-01, -1.1754e-01,\n",
       "          5.0517e-02, -1.8403e-01,  7.3338e-03, -5.0124e-02, -1.9221e-02,\n",
       "         -2.6252e-01,  8.8018e-04, -1.0395e-02,  1.9302e-02,  3.0104e-02,\n",
       "         -2.3396e-02,  1.1932e-01],\n",
       "        [-9.7820e-02, -1.1781e-01, -1.3754e-01, -3.4419e-02, -2.4555e-01,\n",
       "         -8.2558e-02,  2.8046e-01,  9.0558e-02,  1.0549e-01,  1.6887e-02,\n",
       "          7.6768e-02,  1.5865e-01, -1.0308e-01, -3.4587e-02, -4.8417e-02,\n",
       "         -8.4521e-02, -4.5288e-02, -9.2335e-03,  8.3565e-02,  4.2709e-02,\n",
       "          1.6609e-01, -1.6773e-02,  4.0068e-02, -5.8184e-02,  7.1466e-02,\n",
       "         -2.3450e-02, -5.8360e-02],\n",
       "        [-1.1971e-01,  5.0836e-02,  4.1906e-02, -4.5764e-03,  1.8867e-01,\n",
       "          9.2274e-02, -6.9018e-02, -1.6336e-01, -1.4095e-01, -1.3500e-02,\n",
       "         -1.4174e-01, -7.4070e-02,  1.6223e-02, -1.2251e-01,  1.3078e-01,\n",
       "          7.1656e-02,  3.3251e-02, -5.8363e-02,  1.3973e-02,  2.7261e-02,\n",
       "          4.8384e-02, -5.0687e-02, -1.4454e-02,  6.7448e-02,  1.0010e-01,\n",
       "         -1.0116e-01, -3.3652e-02],\n",
       "        [ 3.1285e-02,  6.5102e-02,  2.1621e-02, -6.8312e-02,  3.2958e-02,\n",
       "         -5.6561e-02,  4.7573e-02, -3.8774e-02,  7.9097e-02,  5.7613e-02,\n",
       "         -2.0855e-02,  5.0044e-02,  1.4677e-01, -1.1647e-01,  1.9308e-03,\n",
       "          6.1943e-02,  1.9592e-02, -9.8459e-02,  1.3828e-01,  1.1971e-01,\n",
       "         -1.8301e-01, -1.0398e-01, -1.2995e-02, -2.3996e-01, -6.8169e-03,\n",
       "         -8.3155e-02,  1.0914e-01],\n",
       "        [-9.9807e-02, -1.2525e-02, -1.4628e-01, -3.4985e-02, -1.0251e-01,\n",
       "         -1.2841e-01,  1.6822e-01, -1.3677e-01, -8.1742e-02,  1.4257e-02,\n",
       "          4.1432e-02,  6.1901e-02, -3.7486e-02,  2.9360e-02,  6.8984e-02,\n",
       "          2.8322e-02, -1.8004e-02, -2.1751e-02,  1.5931e-01,  3.2936e-02,\n",
       "         -4.7450e-02, -1.9232e-02,  1.1364e-02, -1.8421e-01,  1.3612e-01,\n",
       "         -3.9247e-02, -1.3544e-01],\n",
       "        [-5.2547e-02,  1.0625e-01, -2.0265e-01,  5.4853e-02, -6.3450e-02,\n",
       "         -7.2170e-02, -3.9528e-02, -5.5574e-02, -1.5745e-01, -7.6536e-02,\n",
       "         -1.1698e-02, -2.4017e-02, -1.3985e-01,  1.0341e-02,  1.7070e-01,\n",
       "          6.5428e-02, -2.8981e-02,  1.3446e-01, -1.6036e-01, -4.7721e-02,\n",
       "         -1.2396e-01,  1.9243e-02, -8.5735e-02,  1.7149e-01, -7.9594e-02,\n",
       "          1.5831e-02, -1.2272e-01],\n",
       "        [ 1.7297e-01, -6.6313e-02,  3.4582e-02,  7.4576e-02, -5.9822e-02,\n",
       "          9.4659e-02, -1.4886e-01,  2.0728e-01,  2.2035e-01,  2.9240e-01,\n",
       "          1.4400e-01,  1.4788e-01, -7.9534e-02,  8.2400e-02, -2.4936e-01,\n",
       "         -1.3190e-01, -1.0689e-01,  4.2063e-02, -1.3029e-01,  5.0984e-02,\n",
       "          4.4898e-02,  1.1932e-01, -9.6740e-02,  8.3651e-02, -2.3232e-01,\n",
       "          7.3297e-02,  2.0783e-01],\n",
       "        [ 4.5795e-02, -2.0047e-02,  3.6874e-02, -1.9524e-02, -6.6852e-02,\n",
       "         -1.2725e-01,  7.9205e-03,  9.1817e-02,  2.8676e-02,  4.9900e-02,\n",
       "         -2.3509e-02,  4.0089e-02, -4.7198e-02, -3.6315e-02, -5.0304e-02,\n",
       "         -9.0770e-02,  5.1020e-02,  9.2652e-03,  1.6336e-01, -1.4557e-02,\n",
       "         -4.2423e-03, -5.0349e-02, -1.4942e-02,  1.3656e-01, -1.4634e-01,\n",
       "         -4.8384e-02,  2.9877e-02],\n",
       "        [-3.1077e-02, -9.5783e-02,  6.2620e-02, -1.0434e-02,  1.2542e-01,\n",
       "          9.2421e-02,  3.9303e-02, -1.5321e-02, -1.0660e-01,  2.3684e-02,\n",
       "         -1.3885e-01, -4.2561e-02,  8.3753e-02, -3.5099e-03,  8.1046e-03,\n",
       "          8.1086e-02, -2.2279e-02, -1.3579e-01,  2.5096e-02,  5.7879e-02,\n",
       "         -1.0721e-01, -7.3132e-02, -6.8985e-02,  6.7063e-02,  6.4478e-02,\n",
       "         -5.4680e-02,  1.0530e-01],\n",
       "        [-1.2730e-01, -1.9083e-01, -2.5076e-02,  1.2481e-02,  3.6580e-02,\n",
       "          4.9460e-02,  1.5632e-01,  4.5134e-02, -1.2463e-01, -1.3818e-01,\n",
       "          2.0515e-01, -1.8696e-02, -5.6453e-02,  1.0093e-01,  1.3850e-02,\n",
       "         -1.7977e-02, -2.0811e-02, -1.6035e-02,  2.7494e-02, -9.4909e-03,\n",
       "         -4.5999e-02, -1.1615e-02,  3.0227e-02, -3.1146e-02,  1.2209e-01,\n",
       "          1.1199e-01, -1.2831e-01],\n",
       "        [ 5.9088e-02,  7.6439e-02, -3.2010e-02,  4.2983e-02, -3.8219e-02,\n",
       "          2.1302e-02, -5.5204e-02, -9.0312e-02,  1.0388e-03, -3.7243e-02,\n",
       "         -3.9455e-02, -7.1220e-02,  2.4953e-02, -3.8775e-02,  1.8619e-02,\n",
       "          1.2139e-01,  1.1679e-02, -2.4779e-02, -1.5089e-01, -7.0789e-02,\n",
       "          1.2157e-01,  7.9713e-03,  4.3156e-02,  8.2258e-02, -6.3035e-02,\n",
       "         -6.1707e-02, -1.0117e-02],\n",
       "        [-3.5438e-02,  4.8137e-03,  9.6524e-02,  3.6354e-02,  5.8150e-02,\n",
       "          1.0833e-01,  2.2794e-02,  9.8015e-03,  3.0440e-02, -4.7919e-02,\n",
       "         -3.5169e-03, -1.2029e-01,  3.9577e-02, -4.5858e-02,  4.6939e-02,\n",
       "          9.4975e-02,  1.8241e-02, -1.0027e-01, -1.6941e-01, -1.0827e-01,\n",
       "          1.4381e-01,  1.1181e-01, -2.5582e-02,  4.5392e-02, -4.9309e-02,\n",
       "          1.3141e-01, -4.1127e-02],\n",
       "        [-4.6601e-02,  7.1294e-02,  4.0797e-02,  3.1149e-02,  1.9894e-02,\n",
       "         -3.9361e-03, -2.6331e-02,  5.2819e-02,  1.1655e-02, -3.3673e-02,\n",
       "         -1.0199e-01, -1.0497e-01,  4.3396e-02,  3.9557e-02,  4.0937e-02,\n",
       "         -4.9429e-02,  5.8889e-02, -1.5894e-02,  3.3501e-02, -6.7133e-02,\n",
       "          1.7686e-01,  1.1971e-01,  3.9865e-02, -7.5818e-02,  1.2355e-02,\n",
       "          1.4911e-01,  1.0603e-02],\n",
       "        [ 5.5568e-03,  1.0437e-01, -4.6940e-02, -2.6548e-02, -3.8451e-02,\n",
       "         -1.1224e-01, -9.5221e-02, -1.9580e-01, -1.3513e-02, -1.6739e-02,\n",
       "         -2.4970e-02,  6.1105e-02,  4.4065e-02, -1.5662e-01,  4.4793e-03,\n",
       "          5.6741e-02, -4.6677e-02, -4.6319e-03,  6.8984e-03, -2.2094e-02,\n",
       "          3.3557e-02, -1.5982e-01,  7.4299e-02,  4.7091e-02,  4.7077e-02,\n",
       "         -2.5303e-01, -6.0624e-02]], grad_fn=<AddBackward0>)"
      ]
     },
     "execution_count": 8,
     "metadata": {},
     "output_type": "execute_result"
    }
   ],
   "source": [
    "logits"
   ]
  },
  {
   "cell_type": "code",
   "execution_count": null,
   "metadata": {},
   "outputs": [],
   "source": [
    "-torch.tensor(1/27.0).log()"
   ]
  },
  {
   "cell_type": "code",
   "execution_count": null,
   "metadata": {},
   "outputs": [],
   "source": [
    "plt.plot(lossi)"
   ]
  },
  {
   "cell_type": "code",
   "execution_count": null,
   "metadata": {},
   "outputs": [],
   "source": [
    "# calibrate the batch norm at the end of training\n",
    "\n",
    "with torch.no_grad():\n",
    "  # pass the training set through\n",
    "  emb = C[Xtr]\n",
    "  embcat = emb.view(emb.shape[0], -1)\n",
    "  hpreact = embcat @ W1 # + b1\n",
    "  # measure the mean/std over the entire training set\n",
    "  bnmean = hpreact.mean(0, keepdim=True)\n",
    "  bnstd = hpreact.std(0, keepdim=True)\n"
   ]
  },
  {
   "cell_type": "code",
   "execution_count": null,
   "metadata": {},
   "outputs": [],
   "source": [
    "@torch.no_grad() # this decorator disables gradient tracking\n",
    "def split_loss(split):\n",
    "  x,y = {\n",
    "    'train': (Xtr, Ytr),\n",
    "    'val': (Xdev, Ydev),\n",
    "    'test': (Xte, Yte),\n",
    "  }[split]\n",
    "  emb = C[x] # (N, block_size, n_embd)\n",
    "  embcat = emb.view(emb.shape[0], -1) # concat into (N, block_size * n_embd)\n",
    "  hpreact = embcat @ W1 # + b1\n",
    "  #hpreact = bngain * (hpreact - hpreact.mean(0, keepdim=True)) / hpreact.std(0, keepdim=True) + bnbias\n",
    "  hpreact = bngain * (hpreact - bnmean_running) / bnstd_running + bnbias\n",
    "  h = torch.tanh(hpreact) # (N, n_hidden)\n",
    "  logits = h @ W2 + b2 # (N, vocab_size)\n",
    "  loss = F.cross_entropy(logits, y)\n",
    "  print(split, loss.item())\n",
    "\n",
    "split_loss('train')\n",
    "split_loss('val')"
   ]
  },
  {
   "cell_type": "markdown",
   "metadata": {},
   "source": [
    "## loss log\n",
    "\n",
    "### original:\n",
    "train 2.1245384216308594\n",
    "val   2.168196439743042\n",
    "\n",
    "### fix softmax confidently wrong:\n",
    "train 2.07\n",
    "val   2.13\n",
    "\n",
    "### fix tanh layer too saturated at init:\n",
    "train 2.0355966091156006\n",
    "val   2.1026785373687744\n",
    "\n",
    "### use semi-principled \"kaiming init\" instead of hacky init:\n",
    "train 2.0376641750335693\n",
    "val   2.106989622116089\n",
    "\n",
    "### add batch norm layer\n",
    "train 2.0668270587921143\n",
    "val 2.104844808578491\n"
   ]
  },
  {
   "cell_type": "code",
   "execution_count": null,
   "metadata": {},
   "outputs": [],
   "source": [
    "# SUMMARY + PYTORCHIFYING -----------"
   ]
  },
  {
   "cell_type": "code",
   "execution_count": null,
   "metadata": {},
   "outputs": [],
   "source": [
    "# Let's train a deeper network\n",
    "# The classes we create here are the same API as nn.Module in PyTorch\n",
    "\n",
    "class Linear:\n",
    "  \n",
    "  def __init__(self, fan_in, fan_out, bias=True):\n",
    "    self.weight = torch.randn((fan_in, fan_out), generator=g) / fan_in**0.5\n",
    "    self.bias = torch.zeros(fan_out) if bias else None\n",
    "  \n",
    "  def __call__(self, x):\n",
    "    self.out = x @ self.weight\n",
    "    if self.bias is not None:\n",
    "      self.out += self.bias\n",
    "    return self.out\n",
    "  \n",
    "  def parameters(self):\n",
    "    return [self.weight] + ([] if self.bias is None else [self.bias])\n",
    "\n",
    "\n",
    "class BatchNorm1d:\n",
    "  \n",
    "  def __init__(self, dim, eps=1e-5, momentum=0.1):\n",
    "    self.eps = eps\n",
    "    self.momentum = momentum\n",
    "    self.training = True\n",
    "    # parameters (trained with backprop)\n",
    "    self.gamma = torch.ones(dim)\n",
    "    self.beta = torch.zeros(dim)\n",
    "    # buffers (trained with a running 'momentum update')\n",
    "    self.running_mean = torch.zeros(dim)\n",
    "    self.running_var = torch.ones(dim)\n",
    "  \n",
    "  def __call__(self, x):\n",
    "    # calculate the forward pass\n",
    "    if self.training:\n",
    "      xmean = x.mean(0, keepdim=True) # batch mean\n",
    "      xvar = x.var(0, keepdim=True) # batch variance\n",
    "    else:\n",
    "      xmean = self.running_mean\n",
    "      xvar = self.running_var\n",
    "    xhat = (x - xmean) / torch.sqrt(xvar + self.eps) # normalize to unit variance\n",
    "    self.out = self.gamma * xhat + self.beta\n",
    "    # update the buffers\n",
    "    if self.training:\n",
    "      with torch.no_grad():\n",
    "        self.running_mean = (1 - self.momentum) * self.running_mean + self.momentum * xmean\n",
    "        self.running_var = (1 - self.momentum) * self.running_var + self.momentum * xvar\n",
    "    return self.out\n",
    "  \n",
    "  def parameters(self):\n",
    "    return [self.gamma, self.beta]\n",
    "\n",
    "class Tanh:\n",
    "  def __call__(self, x):\n",
    "    self.out = torch.tanh(x)\n",
    "    return self.out\n",
    "  def parameters(self):\n",
    "    return []\n",
    "\n",
    "n_embd = 10 # the dimensionality of the character embedding vectors\n",
    "n_hidden = 100 # the number of neurons in the hidden layer of the MLP\n",
    "g = torch.Generator().manual_seed(2147483647) # for reproducibility\n",
    "\n",
    "C = torch.randn((vocab_size, n_embd),            generator=g)\n",
    "layers = [\n",
    "  Linear(n_embd * block_size, n_hidden, bias=False), BatchNorm1d(n_hidden), Tanh(),\n",
    "  Linear(           n_hidden, n_hidden, bias=False), BatchNorm1d(n_hidden), Tanh(),\n",
    "  Linear(           n_hidden, n_hidden, bias=False), BatchNorm1d(n_hidden), Tanh(),\n",
    "  Linear(           n_hidden, n_hidden, bias=False), BatchNorm1d(n_hidden), Tanh(),\n",
    "  Linear(           n_hidden, n_hidden, bias=False), BatchNorm1d(n_hidden), Tanh(),\n",
    "  Linear(           n_hidden, vocab_size, bias=False), BatchNorm1d(vocab_size),\n",
    "]\n",
    "# layers = [\n",
    "#   Linear(n_embd * block_size, n_hidden), Tanh(),\n",
    "#   Linear(           n_hidden, n_hidden), Tanh(),\n",
    "#   Linear(           n_hidden, n_hidden), Tanh(),\n",
    "#   Linear(           n_hidden, n_hidden), Tanh(),\n",
    "#   Linear(           n_hidden, n_hidden), Tanh(),\n",
    "#   Linear(           n_hidden, vocab_size),\n",
    "# ]\n",
    "\n",
    "with torch.no_grad():\n",
    "  # last layer: make less confident\n",
    "  layers[-1].gamma *= 0.1\n",
    "  #layers[-1].weight *= 0.1\n",
    "  # all other layers: apply gain\n",
    "  for layer in layers[:-1]:\n",
    "    if isinstance(layer, Linear):\n",
    "      layer.weight *= 1.0 #5/3\n",
    "\n",
    "parameters = [C] + [p for layer in layers for p in layer.parameters()]\n",
    "print(sum(p.nelement() for p in parameters)) # number of parameters in total\n",
    "for p in parameters:\n",
    "  p.requires_grad = True"
   ]
  },
  {
   "cell_type": "code",
   "execution_count": null,
   "metadata": {},
   "outputs": [],
   "source": [
    "# same optimization as last time\n",
    "max_steps = 200000\n",
    "batch_size = 32\n",
    "lossi = []\n",
    "ud = []\n",
    "\n",
    "for i in range(max_steps):\n",
    "  \n",
    "  # minibatch construct\n",
    "  ix = torch.randint(0, Xtr.shape[0], (batch_size,), generator=g)\n",
    "  Xb, Yb = Xtr[ix], Ytr[ix] # batch X,Y\n",
    "  \n",
    "  # forward pass\n",
    "  emb = C[Xb] # embed the characters into vectors\n",
    "  x = emb.view(emb.shape[0], -1) # concatenate the vectors\n",
    "  for layer in layers:\n",
    "    x = layer(x)\n",
    "  loss = F.cross_entropy(x, Yb) # loss function\n",
    "  \n",
    "  # backward pass\n",
    "  for layer in layers:\n",
    "    layer.out.retain_grad() # AFTER_DEBUG: would take out retain_graph\n",
    "  for p in parameters:\n",
    "    p.grad = None\n",
    "  loss.backward()\n",
    "  \n",
    "  # update\n",
    "  lr = 0.1 if i < 150000 else 0.01 # step learning rate decay\n",
    "  for p in parameters:\n",
    "    p.data += -lr * p.grad\n",
    "\n",
    "  # track stats\n",
    "  if i % 10000 == 0: # print every once in a while\n",
    "    print(f'{i:7d}/{max_steps:7d}: {loss.item():.4f}')\n",
    "  lossi.append(loss.log10().item())\n",
    "  with torch.no_grad():\n",
    "    ud.append([((lr*p.grad).std() / p.data.std()).log10().item() for p in parameters])\n",
    "\n",
    "  if i >= 1000:\n",
    "    break # AFTER_DEBUG: would take out obviously to run full optimization"
   ]
  },
  {
   "cell_type": "code",
   "execution_count": null,
   "metadata": {},
   "outputs": [],
   "source": [
    "# visualize histograms\n",
    "plt.figure(figsize=(20, 4)) # width and height of the plot\n",
    "legends = []\n",
    "for i, layer in enumerate(layers[:-1]): # note: exclude the output layer\n",
    "  if isinstance(layer, Tanh):\n",
    "    t = layer.out\n",
    "    print('layer %d (%10s): mean %+.2f, std %.2f, saturated: %.2f%%' % (i, layer.__class__.__name__, t.mean(), t.std(), (t.abs() > 0.97).float().mean()*100))\n",
    "    hy, hx = torch.histogram(t, density=True)\n",
    "    plt.plot(hx[:-1].detach(), hy.detach())\n",
    "    legends.append(f'layer {i} ({layer.__class__.__name__}')\n",
    "plt.legend(legends);\n",
    "plt.title('activation distribution')"
   ]
  },
  {
   "cell_type": "code",
   "execution_count": null,
   "metadata": {},
   "outputs": [],
   "source": [
    "# visualize histograms\n",
    "plt.figure(figsize=(20, 4)) # width and height of the plot\n",
    "legends = []\n",
    "for i, layer in enumerate(layers[:-1]): # note: exclude the output layer\n",
    "  if isinstance(layer, Tanh):\n",
    "    t = layer.out.grad\n",
    "    print('layer %d (%10s): mean %+f, std %e' % (i, layer.__class__.__name__, t.mean(), t.std()))\n",
    "    hy, hx = torch.histogram(t, density=True)\n",
    "    plt.plot(hx[:-1].detach(), hy.detach())\n",
    "    legends.append(f'layer {i} ({layer.__class__.__name__}')\n",
    "plt.legend(legends);\n",
    "plt.title('gradient distribution')"
   ]
  },
  {
   "cell_type": "code",
   "execution_count": null,
   "metadata": {},
   "outputs": [],
   "source": [
    "# visualize histograms\n",
    "plt.figure(figsize=(20, 4)) # width and height of the plot\n",
    "legends = []\n",
    "for i,p in enumerate(parameters):\n",
    "  t = p.grad\n",
    "  if p.ndim == 2:\n",
    "    print('weight %10s | mean %+f | std %e | grad:data ratio %e' % (tuple(p.shape), t.mean(), t.std(), t.std() / p.std()))\n",
    "    hy, hx = torch.histogram(t, density=True)\n",
    "    plt.plot(hx[:-1].detach(), hy.detach())\n",
    "    legends.append(f'{i} {tuple(p.shape)}')\n",
    "plt.legend(legends)\n",
    "plt.title('weights gradient distribution');"
   ]
  },
  {
   "cell_type": "code",
   "execution_count": null,
   "metadata": {},
   "outputs": [],
   "source": [
    "plt.figure(figsize=(20, 4))\n",
    "legends = []\n",
    "for i,p in enumerate(parameters):\n",
    "  if p.ndim == 2:\n",
    "    plt.plot([ud[j][i] for j in range(len(ud))])\n",
    "    legends.append('param %d' % i)\n",
    "plt.plot([0, len(ud)], [-3, -3], 'k') # these ratios should be ~1e-3, indicate on plot\n",
    "plt.legend(legends);\n"
   ]
  },
  {
   "cell_type": "code",
   "execution_count": null,
   "metadata": {},
   "outputs": [],
   "source": [
    "@torch.no_grad() # this decorator disables gradient tracking\n",
    "def split_loss(split):\n",
    "  x,y = {\n",
    "    'train': (Xtr, Ytr),\n",
    "    'val': (Xdev, Ydev),\n",
    "    'test': (Xte, Yte),\n",
    "  }[split]\n",
    "  emb = C[x] # (N, block_size, n_embd)\n",
    "  x = emb.view(emb.shape[0], -1) # concat into (N, block_size * n_embd)\n",
    "  for layer in layers:\n",
    "    x = layer(x)\n",
    "  loss = F.cross_entropy(x, y)\n",
    "  print(split, loss.item())\n",
    "\n",
    "# put layers into eval mode\n",
    "for layer in layers:\n",
    "  layer.training = False\n",
    "split_loss('train')\n",
    "split_loss('val')"
   ]
  },
  {
   "cell_type": "code",
   "execution_count": null,
   "metadata": {},
   "outputs": [],
   "source": [
    "# sample from the model\n",
    "g = torch.Generator().manual_seed(2147483647 + 10)\n",
    "\n",
    "for _ in range(20):\n",
    "    \n",
    "    out = []\n",
    "    context = [0] * block_size # initialize with all ...\n",
    "    while True:\n",
    "      # forward pass the neural net\n",
    "      emb = C[torch.tensor([context])] # (1,block_size,n_embd)\n",
    "      x = emb.view(emb.shape[0], -1) # concatenate the vectors\n",
    "      for layer in layers:\n",
    "        x = layer(x)\n",
    "      logits = x\n",
    "      probs = F.softmax(logits, dim=1)\n",
    "      # sample from the distribution\n",
    "      ix = torch.multinomial(probs, num_samples=1, generator=g).item()\n",
    "      # shift the context window and track the samples\n",
    "      context = context[1:] + [ix]\n",
    "      out.append(ix)\n",
    "      # if we sample the special '.' token, break\n",
    "      if ix == 0:\n",
    "        break\n",
    "    \n",
    "    print(''.join(itos[i] for i in out)) # decode and print the generated word"
   ]
  },
  {
   "cell_type": "code",
   "execution_count": null,
   "metadata": {},
   "outputs": [],
   "source": [
    "# DONE; BONUS content below, not covered in video"
   ]
  },
  {
   "cell_type": "code",
   "execution_count": null,
   "metadata": {},
   "outputs": [],
   "source": [
    "# BatchNorm forward pass as a widget\n",
    "\n",
    "from ipywidgets import interact, interactive, fixed, interact_manual\n",
    "import ipywidgets as widgets\n",
    "import scipy.stats as stats\n",
    "import numpy as np\n",
    "\n",
    "def normshow(x0):\n",
    "  \n",
    "  g = torch.Generator().manual_seed(2147483647+1)\n",
    "  x = torch.randn(5, generator=g) * 5\n",
    "  x[0] = x0 # override the 0th example with the slider\n",
    "  mu = x.mean()\n",
    "  sig = x.std()\n",
    "  y = (x - mu)/sig\n",
    "\n",
    "  plt.figure(figsize=(10, 5))\n",
    "  # plot 0\n",
    "  plt.plot([-6,6], [0,0], 'k')\n",
    "  # plot the mean and std\n",
    "  xx = np.linspace(-6, 6, 100)\n",
    "  plt.plot(xx, stats.norm.pdf(xx, mu, sig), 'b')\n",
    "  xx = np.linspace(-6, 6, 100)\n",
    "  plt.plot(xx, stats.norm.pdf(xx, 0, 1), 'r')\n",
    "  # plot little lines connecting input and output\n",
    "  for i in range(len(x)):\n",
    "    plt.plot([x[i],y[i]], [1, 0], 'k', alpha=0.2)\n",
    "  # plot the input and output values\n",
    "  plt.scatter(x.data, torch.ones_like(x).data, c='b', s=100)\n",
    "  plt.scatter(y.data, torch.zeros_like(y).data, c='r', s=100)\n",
    "  plt.xlim(-6, 6)\n",
    "  # title\n",
    "  plt.title('input mu %.2f std %.2f' % (mu, sig))\n",
    "\n",
    "interact(normshow, x0=(-30,30,0.5));\n"
   ]
  },
  {
   "cell_type": "code",
   "execution_count": null,
   "metadata": {},
   "outputs": [],
   "source": [
    "# Linear: activation statistics of forward and backward pass\n",
    "\n",
    "g = torch.Generator().manual_seed(2147483647)\n",
    "\n",
    "a = torch.randn((1000,1), requires_grad=True, generator=g)          # a.grad = b.T @ c.grad\n",
    "b = torch.randn((1000,1000), requires_grad=True, generator=g)       # b.grad = c.grad @ a.T\n",
    "c = b @ a\n",
    "loss = torch.randn(1000, generator=g) @ c\n",
    "a.retain_grad()\n",
    "b.retain_grad()\n",
    "c.retain_grad()\n",
    "loss.backward()\n",
    "print('a std:', a.std().item())\n",
    "print('b std:', b.std().item())\n",
    "print('c std:', c.std().item())\n",
    "print('-----')\n",
    "print('c grad std:', c.grad.std().item())\n",
    "print('a grad std:', a.grad.std().item())\n",
    "print('b grad std:', b.grad.std().item())"
   ]
  },
  {
   "cell_type": "code",
   "execution_count": null,
   "metadata": {},
   "outputs": [],
   "source": [
    "# Linear + BatchNorm: activation statistics of forward and backward pass\n",
    "\n",
    "g = torch.Generator().manual_seed(2147483647)\n",
    "\n",
    "n = 1000\n",
    "# linear layer ---\n",
    "inp = torch.randn(n, requires_grad=True, generator=g)\n",
    "w = torch.randn((n, n), requires_grad=True, generator=g) # / n**0.5\n",
    "x = w @ inp\n",
    "# bn layer ---\n",
    "xmean = x.mean()\n",
    "xvar = x.var()\n",
    "out = (x - xmean) / torch.sqrt(xvar + 1e-5)\n",
    "# ----\n",
    "loss = out @ torch.randn(n, generator=g)\n",
    "inp.retain_grad()\n",
    "x.retain_grad()\n",
    "w.retain_grad()\n",
    "out.retain_grad()\n",
    "loss.backward()\n",
    "\n",
    "print('inp std: ', inp.std().item())\n",
    "print('w std: ', w.std().item())\n",
    "print('x std: ', x.std().item())\n",
    "print('out std: ', out.std().item())\n",
    "print('------')\n",
    "print('out grad std: ', out.grad.std().item())\n",
    "print('x grad std: ', x.grad.std().item())\n",
    "print('w grad std: ', w.grad.std().item())\n",
    "print('inp grad std: ', inp.grad.std().item())"
   ]
  }
 ],
 "metadata": {
  "kernelspec": {
   "display_name": "Python 3 (ipykernel)",
   "language": "python",
   "name": "python3"
  },
  "language_info": {
   "codemirror_mode": {
    "name": "ipython",
    "version": 3
   },
   "file_extension": ".py",
   "mimetype": "text/x-python",
   "name": "python",
   "nbconvert_exporter": "python",
   "pygments_lexer": "ipython3",
   "version": "3.9.18"
  }
 },
 "nbformat": 4,
 "nbformat_minor": 4
}
