{
 "cells": [
  {
   "cell_type": "markdown",
   "metadata": {},
   "source": [
    "# Approccio orientato ai dati\n",
    "\n",
    "## Soluzione statistica classica: Conteggio della frequenza dei bigrammi\n",
    "\n",
    "Questo approccio prevede l'analisi del set di dati per capire la frequenza di occorrenza di coppie di lettere (bigrammi) nei nomi. Comprendendo queste frequenze, possiamo generare nuovi nomi scegliendo in modo probabilistico ogni lettera successiva in base alla lettera o alle lettere precedenti. Le fasi sono le seguenti:\n",
    "\n",
    "1. **Preparazione dei dati**: Elaborazione del set di dati per estrarre tutti i bigrammi dai nomi.\n",
    "2. **Analisi della frequenza**: Calcolo della frequenza di ciascun bigramma.\n",
    "3. **Generazione del nome**: Iniziare con una lettera o un bigramma iniziale e selezionare in modo probabilistico ogni lettera successiva in base alla frequenza dei bigrammi nel dataset."
   ]
  },
  {
   "cell_type": "code",
   "execution_count": 1,
   "metadata": {},
   "outputs": [],
   "source": [
    "# Load the dataset\n",
    "file_path = 'names.txt'\n",
    "\n",
    "# Read the file and process it for bigram frequency analysis\n",
    "with open(file_path, 'r', encoding='utf-8') as file:\n",
    "    names = file.read().splitlines()"
   ]
  },
  {
   "cell_type": "code",
   "execution_count": 2,
   "metadata": {},
   "outputs": [
    {
     "data": {
      "text/plain": [
       "[('an', 5438),\n",
       " ('ar', 3264),\n",
       " ('el', 3248),\n",
       " ('ri', 3033),\n",
       " ('na', 2977),\n",
       " ('le', 2921),\n",
       " ('en', 2675),\n",
       " ('la', 2623),\n",
       " ('ma', 2590),\n",
       " ('al', 2528)]"
      ]
     },
     "execution_count": 2,
     "metadata": {},
     "output_type": "execute_result"
    }
   ],
   "source": [
    "# Importing necessary libraries\n",
    "from collections import Counter\n",
    "import re\n",
    "\n",
    "# Preprocess the names (e.g., remove special characters, convert to lower case)\n",
    "processed_names = [re.sub(r'\\W+', '', name.lower()) for name in names]\n",
    "\n",
    "# Extract bigrams from the names\n",
    "bigrams = [name[i:i+2]\n",
    "           for name in processed_names for i in range(len(name) - 1)]\n",
    "\n",
    "# Calculate the frequency of each bigram\n",
    "bigram_frequency = Counter(bigrams)\n",
    "\n",
    "# Display the top 10 most common bigrams\n",
    "top_bigrams = bigram_frequency.most_common(10)\n",
    "top_bigrams"
   ]
  },
  {
   "cell_type": "code",
   "execution_count": 5,
   "metadata": {},
   "outputs": [
    {
     "data": {
      "text/plain": [
       "[('em', 769),\n",
       " ('mm', 168),\n",
       " ('ma', 2590),\n",
       " ('ol', 619),\n",
       " ('li', 2480),\n",
       " ('iv', 269),\n",
       " ('vi', 911),\n",
       " ('ia', 2445),\n",
       " ('av', 834),\n",
       " ('va', 642)]"
      ]
     },
     "execution_count": 5,
     "metadata": {},
     "output_type": "execute_result"
    }
   ],
   "source": [
    "list(bigram_frequency.items())[:10]"
   ]
  },
  {
   "cell_type": "markdown",
   "metadata": {},
   "source": [
    "Per generare i nomi utilizzando l'approccio statistico classico basato sul conteggio della frequenza dei bigrammi dal set di dati, seguiremo i seguenti passaggi:\n",
    "\n",
    "1. **Inizializzare il nome**: Iniziare con una lettera. Questa può essere scelta a caso o in base a un criterio (ad esempio, la lettera iniziale più comune).\n",
    "\n",
    "2. **Generare le lettere successive**: Per ogni lettera successiva, utilizzeremo le frequenze dei bigrammi per selezionare probabilisticamente la lettera. Ciò significa che se la parte corrente del nome è \"a\" e \"an\" è un bigramma frequente, è molto probabile che la lettera successiva sia \"n\".\n",
    "\n",
    "3. **Impostare una condizione di terminazione**: Definire le condizioni per terminare la generazione del nome, come il raggiungimento di una lunghezza massima o l'incontro con un bigramma che ricorre frequentemente alla fine dei nomi.\n",
    "\n",
    "4. **Ripetere il processo**: Generare diversi nomi ripetendo il processo.\n",
    "\n",
    "Procediamo con questo metodo per generare alcuni nomi di esempio. Inizieremo con una lettera iniziale casuale e poi useremo le frequenze dei bigrammi per generare le lettere successive."
   ]
  },
  {
   "cell_type": "code",
   "execution_count": 10,
   "metadata": {},
   "outputs": [
    {
     "data": {
      "text/plain": [
       "['hahond', 'shaden', 'erarel', 'lcolia', 'eiviri']"
      ]
     },
     "execution_count": 10,
     "metadata": {},
     "output_type": "execute_result"
    }
   ],
   "source": [
    "import random\n",
    "\n",
    "\n",
    "def generate_name_bigrams(bigram_freq, max_length=6):\n",
    "    \"\"\"\n",
    "    Generate a name using bigram frequencies.\n",
    "\n",
    "    :param bigram_freq: A Counter object containing bigram frequencies.\n",
    "    :param max_length: Maximum length of the generated name.\n",
    "    :return: A generated name.\n",
    "    \"\"\"\n",
    "    # Start the name with a random letter (considering only letters present in the bigrams)\n",
    "    letters = ''.join(set(''.join(bigram_freq.keys())))\n",
    "    current_letter = random.choice(letters)\n",
    "\n",
    "    # Initialize the name\n",
    "    name = current_letter\n",
    "\n",
    "    while len(name) < max_length:\n",
    "        # Possible next letters based on current_letter\n",
    "        possible_bigrams = [(bigram, freq) for bigram, freq in bigram_freq.items(\n",
    "        ) if bigram.startswith(current_letter)]\n",
    "\n",
    "        if not possible_bigrams:\n",
    "            break\n",
    "\n",
    "        # Choose the next letter based on the frequency of the bigrams\n",
    "        next_bigram = random.choices([bigram for bigram, freq in possible_bigrams],\n",
    "                                     weights=[freq for bigram, freq in possible_bigrams])[0]\n",
    "        next_letter = next_bigram[1]\n",
    "\n",
    "        # Append the next letter to the name\n",
    "        name += next_letter\n",
    "\n",
    "        # Update the current letter to the last letter of the name\n",
    "        current_letter = name[-1]\n",
    "\n",
    "    return name\n",
    "\n",
    "\n",
    "# Generate a few example names\n",
    "generated_names = [generate_name_bigrams(bigram_frequency) for _ in range(5)]\n",
    "generated_names"
   ]
  }
 ],
 "metadata": {
  "kernelspec": {
   "display_name": "notebook39",
   "language": "python",
   "name": "python3"
  },
  "language_info": {
   "codemirror_mode": {
    "name": "ipython",
    "version": 3
   },
   "file_extension": ".py",
   "mimetype": "text/x-python",
   "name": "python",
   "nbconvert_exporter": "python",
   "pygments_lexer": "ipython3",
   "version": "3.9.18"
  }
 },
 "nbformat": 4,
 "nbformat_minor": 2
}
